{
 "cells": [
  {
   "cell_type": "code",
   "execution_count": 1,
   "id": "7b16f37f-814e-482c-8fcb-cae4276a76bb",
   "metadata": {},
   "outputs": [],
   "source": [
    "#Internship-Task 1\n",
    "#create a tool that summarizes lengthy articles using natural language processing techniques.\n",
    "#for all natural language processing requirements eg:text summarization, we can use libraries like nltk,spacy and transformers \n",
    "import nltk\n",
    "\n",
    "#NLP models, including machine learning algorithms, cannot directly process raw text. Tokenization transforms text into a format that machines can understand and analyze. \n",
    "#the sent_tokenize function from the nltk.tokenize module breaks down text into a list of individual sentences\n",
    "from nltk.tokenize import sent_tokenize"
   ]
  },
  {
   "cell_type": "code",
   "execution_count": 2,
   "id": "d4e2dfc2-3b55-41b4-a456-4b9de3f3dc97",
   "metadata": {},
   "outputs": [
    {
     "name": "stdout",
     "output_type": "stream",
     "text": [
      "Introduction \n",
      "Education is fundamental for achieving full human potential, developing an equitable and just \n",
      "society, and promoting national development. Providing universal access to quality education is the \n",
      "key to Indiaâ€™s continued ascent, and leadership on the global stage in terms of economic growth, \n",
      "social justice and equality, scientific advancement, national integration, and cultural preservation. \n",
      "Universal high-quality education is the best way forward for developing and maximizing our \n",
      "country's rich talents and resources for the good of the individual, the society, the country, and the \n",
      "world. India will have the highest population of young people in the world over the next decade, and \n",
      "our ability to provide high-quality educational opportunities to them will determine the future of our \n",
      "country.  \n",
      "The global education development agenda reflected in the Goal 4 (SDG4) of the 2030 Agenda for \n",
      "Sustainable Development, adopted by India in 2015 - seeks to \"ensure inclusive and equitable quality \n",
      "education and promote lifelong learning opportunities for all\" by 2030. Such a lofty goal will require \n",
      "the entire education system to be reconfigured to support and foster learning, so that all of the critical \n",
      "targets and goals (SDGs) of the 2030 Agenda for Sustainable Development can be achieved.  \n",
      "The world is undergoing rapid changes in the knowledge landscape. With various dramatic scientific \n",
      "and technological advances, such as the rise of big data, machine learning, and artificial intelligence, \n",
      "many unskilled jobs worldwide may be taken over by machines, while the need for a skilled \n",
      "workforce, particularly involving mathematics, computer science, and data science, in conjunction \n",
      "with multidisciplinary abilities across the sciences, social sciences, and humanities, will be \n",
      "increasingly in greater demand. With climate change, increasing pollution, and depleting natural \n",
      "resources, there will be a sizeable shift in how we meet the worldâ€™s energy, water, food, and \n",
      "sanitation needs, again resulting in the need for new skilled labour, particularly in biology, chemistry, \n",
      "physics, agriculture, climate science, and social science. The growing emergence of epidemics and \n",
      "pandemics will also call for collaborative research in infectious disease management and \n",
      "development of vaccines and the resultant social issues heightens the need for multidisciplinary \n",
      "learning. There will be a growing demand for humanities and art, as India moves towards becoming a \n",
      "developed country as well as among the three largest economies in the world. \n",
      "Indeed, with the quickly changing employment landscape and global ecosystem, it is becoming \n",
      "increasingly critical that children not only learn, but more importantly learn how to learn. Education \n",
      "thus, must move towards less content, and more towards learning about how to think critically and \n",
      "solve problems, how to be creative and multidisciplinary, and how to innovate, adapt, and absorb new \n",
      "material in novel and changing fields. Pedagogy must evolve to make education more experiential, \n",
      "holistic, integrated, inquiry-driven, discovery-oriented, learner-centered, discussion-based, flexible, \n",
      "and, of course, enjoyable. The curriculum must include basic arts, crafts, humanities, games, sports \n",
      "and fitness, languages, literature, culture, and values, in addition to science and mathematics, to \n",
      "develop all aspects and capabilities of learners; and make education more well-rounded, useful, and \n",
      "fulfilling to the learner. Education must build character, enable learners to be ethical, rational, \n",
      "compassionate, and caring, while at the same time prepare them for gainful, fulfilling employment. \n",
      "The gap between the current state of learning outcomes and what is required must be bridged through \n",
      "undertaking major reforms that bring the highest quality, equity, and integrity into the system, from \n",
      "early childhood care and education through higher education. \n",
      "The aim must be for India to have an education system by 2040 that is second to none, with equitable \n",
      "access to the highest-quality education for all learners regardless of social or economic background.  \n",
      "This National Education Policy 2020 is the first education policy of the 21st century and aims to \n",
      "address the many growing developmental imperatives of our country. This Policy proposes the \n",
      "revision and revamping of all aspects of the education structure, including its regulation and \n",
      "governance, to create a new system that is aligned with the aspirational goals of 21st century \n",
      "3 \n",
      "education, including SDG4, while building upon Indiaâ€™s traditions and value systems.\n",
      "\n"
     ]
    }
   ],
   "source": [
    "#input to the model(a large text) is given through a text file and this large text will be summarized using TF-IDF vectorizer technique\n",
    "#open the input file in read mode and copy all the contents into a string variable \n",
    "filepath = r'C:\\Users\\DELL\\vijji\\textsummary.txt'\n",
    "with open(filepath) as file: \n",
    "  input_text = file.read()\n",
    "  print(input_text)"
   ]
  },
  {
   "cell_type": "code",
   "execution_count": 3,
   "id": "4cd38e4e-abad-4844-a495-7861ecd4679f",
   "metadata": {},
   "outputs": [],
   "source": [
    "#this sent_tokenize function takes the input text and splits it into individual sentences, returning a list of tokens\n",
    "tokens = sent_tokenize(input_text)"
   ]
  },
  {
   "cell_type": "code",
   "execution_count": 4,
   "id": "bbd1193f-0b5a-4f4b-a451-39b0a04d52bc",
   "metadata": {},
   "outputs": [],
   "source": [
    "#TFIDFVectorizer is a simple and efficient implementation of the TF-IDF transformation algorithm, suitable for use in various machine learning applications\n",
    "#Tfidfvectorizer aim to convert a collection of raw documents to a matrix of TF-IDF feature\n",
    "#TFIDF is a way to create a vector representation of a document by averaging all the document's word weights.\n",
    "from sklearn.feature_extraction.text import TfidfVectorizer\n",
    "\n",
    "#creating an instance of the TfidfVectorizer class and remove the stop words from the input text\n",
    "vectorizer = TfidfVectorizer(stop_words='english') \n",
    "\n",
    "#use fit_transform method in the vectorizer object to read the input text and collect the necessary statistics (like term frequency and inverse document frequency) \n",
    "#from the input data (which is list of tokens) and transforms the input data into the corresponding TF-IDF representation (numerical format).\n",
    "tf_idf = vectorizer.fit_transform(tokens) \n"
   ]
  },
  {
   "cell_type": "code",
   "execution_count": 5,
   "id": "b046dce1-6444-4848-8f9a-2eb101411680",
   "metadata": {},
   "outputs": [
    {
     "name": "stdout",
     "output_type": "stream",
     "text": [
      "[0.2726729612727458, 0.20145916439070874, 0.2366859643508067, 0.2474456048239544, 0.20897703186253244, 0.23225823276079044, 0.4057969305542846, 0.16504243391020376, 0.18405356568808565, 0.23330475928651687, 0.2987412000868739, 0.26492516113143566, 0.23879688897040996, 0.23337327596464177, 0.1943408418841068, 0.2636282005000913, 0.22183477858364747, 0.2644461549705546, 0.2792238743874102, 0.20331503297939246]\n"
     ]
    }
   ],
   "source": [
    "#calculate the sentence score for all the sentences in the tf_idf matrix\n",
    "sentence_index = 0\n",
    "sentence_score = []\n",
    "for i in tf_idf:\n",
    "  score = i.sum()/len(i.data)\n",
    "  sentence_index +=1\n",
    "  sentence_score.append(score)\n",
    "\n",
    "print(sentence_score)"
   ]
  },
  {
   "cell_type": "code",
   "execution_count": 6,
   "id": "7e9e23e8-7916-441b-85f2-fdbe7e63cf57",
   "metadata": {},
   "outputs": [
    {
     "name": "stdout",
     "output_type": "stream",
     "text": [
      "Number of elements in tf_idf matrix=  20\n"
     ]
    }
   ],
   "source": [
    "#print the number of elements in the matrix \n",
    "print('Number of elements in tf_idf matrix= ' ,len(sentence_score))"
   ]
  },
  {
   "cell_type": "code",
   "execution_count": 7,
   "id": "ca88d571-eac9-4d25-9617-5b6501b81c9b",
   "metadata": {},
   "outputs": [
    {
     "name": "stdout",
     "output_type": "stream",
     "text": [
      "number of tokens = 20\n"
     ]
    }
   ],
   "source": [
    "#print the number of tokens \n",
    "print('number of tokens =',len(tokens))"
   ]
  },
  {
   "cell_type": "code",
   "execution_count": 8,
   "id": "3ecf8476-4d5e-4945-95ed-83d299916653",
   "metadata": {},
   "outputs": [
    {
     "name": "stdout",
     "output_type": "stream",
     "text": [
      "the average sentence score= 0.24251610291795972\n"
     ]
    }
   ],
   "source": [
    "#calculate the average sentence score \n",
    "average_sentence_score = sum(sentence_score)/len(sentence_score)\n",
    "print('the average sentence score=',average_sentence_score)"
   ]
  },
  {
   "cell_type": "code",
   "execution_count": 9,
   "id": "73ccf2ad-2048-471f-92e4-f89d8633f4ef",
   "metadata": {},
   "outputs": [],
   "source": [
    "#if the sentence score is greater than average score then include the sentence else skip it\n",
    "index = 0\n",
    "summary1 = []\n",
    "for i in sentence_score:\n",
    "  if (i > (average_sentence_score)):\n",
    "    summary1.append(tokens[index])\n",
    "  index += 1\n",
    "output_text = ''\n",
    "for i in summary1:\n",
    "  output_text=output_text + str(i)"
   ]
  },
  {
   "cell_type": "code",
   "execution_count": 10,
   "id": "678d6a22-2d49-46cb-8028-674addc09544",
   "metadata": {},
   "outputs": [
    {
     "data": {
      "text/plain": [
       "'Introduction \\nEducation is fundamental for achieving full human potential, developing an equitable and just \\nsociety, and promoting national development.India will have the highest population of young people in the world over the next decade, and \\nour ability to provide high-quality educational opportunities to them will determine the future of our \\ncountry.The world is undergoing rapid changes in the knowledge landscape.There will be a growing demand for humanities and art, as India moves towards becoming a \\ndeveloped country as well as among the three largest economies in the world.Indeed, with the quickly changing employment landscape and global ecosystem, it is becoming \\nincreasingly critical that children not only learn, but more importantly learn how to learn.Education must build character, enable learners to be ethical, rational, \\ncompassionate, and caring, while at the same time prepare them for gainful, fulfilling employment.The aim must be for India to have an education system by 2040 that is second to none, with equitable \\naccess to the highest-quality education for all learners regardless of social or economic background.This National Education Policy 2020 is the first education policy of the 21st century and aims to \\naddress the many growing developmental imperatives of our country.'"
      ]
     },
     "execution_count": 10,
     "metadata": {},
     "output_type": "execute_result"
    }
   ],
   "source": [
    "#print the summarized output\n",
    "output_text"
   ]
  }
 ],
 "metadata": {
  "kernelspec": {
   "display_name": "Python [conda env:base] *",
   "language": "python",
   "name": "conda-base-py"
  },
  "language_info": {
   "codemirror_mode": {
    "name": "ipython",
    "version": 3
   },
   "file_extension": ".py",
   "mimetype": "text/x-python",
   "name": "python",
   "nbconvert_exporter": "python",
   "pygments_lexer": "ipython3",
   "version": "3.12.7"
  }
 },
 "nbformat": 4,
 "nbformat_minor": 5
}
